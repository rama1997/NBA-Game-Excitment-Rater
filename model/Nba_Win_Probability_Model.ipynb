{
  "cells": [
    {
      "cell_type": "markdown",
      "source": [
        "# Install and import packages"
      ],
      "metadata": {
        "id": "UuwmYdrSeEB-"
      }
    },
    {
      "cell_type": "code",
      "execution_count": 1,
      "metadata": {
        "id": "_6o0ZIltxZNv",
        "colab": {
          "base_uri": "https://localhost:8080/"
        },
        "outputId": "b95df905-2ee2-46bf-ff15-0cd6c96141c0"
      },
      "outputs": [
        {
          "output_type": "stream",
          "name": "stdout",
          "text": [
            "Looking in indexes: https://pypi.org/simple, https://us-python.pkg.dev/colab-wheels/public/simple/\n",
            "Collecting nba_api\n",
            "  Downloading nba_api-1.2-py3-none-any.whl (257 kB)\n",
            "\u001b[2K     \u001b[90m━━━━━━━━━━━━━━━━━━━━━━━━━━━━━━━━━━━━━━━\u001b[0m \u001b[32m257.2/257.2 kB\u001b[0m \u001b[31m9.4 MB/s\u001b[0m eta \u001b[36m0:00:00\u001b[0m\n",
            "\u001b[?25hRequirement already satisfied: numpy<2.0.0,>=1.22.2 in /usr/local/lib/python3.10/dist-packages (from nba_api) (1.22.4)\n",
            "Requirement already satisfied: requests in /usr/local/lib/python3.10/dist-packages (from nba_api) (2.27.1)\n",
            "Requirement already satisfied: urllib3<1.27,>=1.21.1 in /usr/local/lib/python3.10/dist-packages (from requests->nba_api) (1.26.15)\n",
            "Requirement already satisfied: certifi>=2017.4.17 in /usr/local/lib/python3.10/dist-packages (from requests->nba_api) (2022.12.7)\n",
            "Requirement already satisfied: charset-normalizer~=2.0.0 in /usr/local/lib/python3.10/dist-packages (from requests->nba_api) (2.0.12)\n",
            "Requirement already satisfied: idna<4,>=2.5 in /usr/local/lib/python3.10/dist-packages (from requests->nba_api) (3.4)\n",
            "Installing collected packages: nba_api\n",
            "Successfully installed nba_api-1.2\n"
          ]
        }
      ],
      "source": [
        "!pip install nba_api"
      ]
    },
    {
      "cell_type": "code",
      "execution_count": 5,
      "metadata": {
        "id": "2R-U00Qmx_qg"
      },
      "outputs": [],
      "source": [
        "import pandas as pd\n",
        "import time\n",
        "import datetime\n",
        "import matplotlib.pyplot as plt\n",
        "import seaborn as sns\n",
        "import pickle\n",
        "import joblib\n",
        "import requests\n",
        "import numpy as np\n",
        "from google.colab import files\n",
        "from nba_api.stats.endpoints import leaguegamefinder\n",
        "from nba_api.stats.static import teams\n",
        "from nba_api.stats.endpoints import playbyplay\n",
        "from sklearn.model_selection import train_test_split\n",
        "from sklearn.linear_model import LogisticRegression\n",
        "from statsmodels.nonparametric.kernel_regression import KernelReg\n",
        "from sklearn.metrics import confusion_matrix, accuracy_score, classification_report, accuracy_score\n",
        "from sklearn import preprocessing\n",
        "from statsmodels.nonparametric.smoothers_lowess import lowess"
      ]
    },
    {
      "cell_type": "markdown",
      "source": [
        "\n",
        "# Retry Wrapper \n",
        "To prevent API Timeout\n",
        "\n"
      ],
      "metadata": {
        "id": "oQCvS0CZeKah"
      }
    },
    {
      "cell_type": "code",
      "execution_count": 2,
      "metadata": {
        "id": "tbq6U6rg2vRW"
      },
      "outputs": [],
      "source": [
        "def retry(func, retries=3):\n",
        "    def retry_wrapper(*args, **kwargs):\n",
        "        attempts = 0\n",
        "        while attempts < retries:\n",
        "            try:\n",
        "                return func(*args, **kwargs)\n",
        "            except requests.exceptions.RequestException as e:\n",
        "                print(e)\n",
        "                time.sleep(30)\n",
        "                attempts += 1\n",
        "\n",
        "    return retry_wrapper"
      ]
    },
    {
      "cell_type": "markdown",
      "source": [
        "# Get all games from 2007-2022"
      ],
      "metadata": {
        "id": "znw5dZeLXqDO"
      }
    },
    {
      "cell_type": "code",
      "execution_count": null,
      "metadata": {
        "id": "Bb8sGPWY5Rnq"
      },
      "outputs": [],
      "source": [
        "@retry\n",
        "def get_games(year):\n",
        "    second_year = int(year[2:]) + 1\n",
        "    season = str(year) + '-' + str(second_year)\n",
        "\n",
        "    nba_teams = teams.get_teams()\n",
        "    team_ids = [team['id'] for team in nba_teams]\n",
        "\n",
        "    total_games = []\n",
        "    for team_id in team_ids:\n",
        "      # Get regular season games\n",
        "      gamefinder = leaguegamefinder.LeagueGameFinder(\n",
        "          season_nullable=season,\n",
        "          team_id_nullable=team_id,\n",
        "          season_type_nullable=['Regular Season']\n",
        "      )\n",
        "      games = gamefinder.get_data_frames()[0]\n",
        "      total_games.append(games)\n",
        "      # Get playoff games\n",
        "      gamefinder = leaguegamefinder.LeagueGameFinder(\n",
        "          season_nullable=season,\n",
        "          team_id_nullable=team_id,\n",
        "          season_type_nullable=['Playoffs']\n",
        "      )\n",
        "      games = gamefinder.get_data_frames()[0]\n",
        "      total_games.append(games)\n",
        "      time.sleep(.8)\n",
        "\n",
        "    return pd.concat(total_games)"
      ]
    },
    {
      "cell_type": "code",
      "execution_count": null,
      "metadata": {
        "id": "eo0ETalDFk39"
      },
      "outputs": [],
      "source": [
        "games = []\n",
        "year = '2007'\n",
        "for i in range(15):\n",
        "  games_from_year = get_games(year)\n",
        "  games_from_year = games_from_year.sort_values('GAME_ID').drop_duplicates('GAME_ID')\n",
        "  games.append(games_from_year)\n",
        "  year = str(int(year)+1) \n",
        "\n",
        "all_games = pd.concat(games)\n",
        "print(all_games)"
      ]
    },
    {
      "cell_type": "markdown",
      "source": [
        "# Get data from play-by-play api for given game"
      ],
      "metadata": {
        "id": "5QzLIMwQeUld"
      }
    },
    {
      "cell_type": "code",
      "execution_count": 3,
      "metadata": {
        "id": "qXlUw6o9HCmK"
      },
      "outputs": [],
      "source": [
        "@retry\n",
        "def get_data_from_pbp(game):\n",
        "  # Get play by play data\n",
        "  pbp = playbyplay.PlayByPlay(game[\"GAME_ID\"]).get_data_frames()[0]\n",
        "\n",
        "  # Get desired data for model training. Setting up columns GAME_ID, AWAY_SCORE, HOME_SCORE, SCORE_MARGIN, HOME_WIN, OT \n",
        "  res = pd.DataFrame()\n",
        "  res['GAME_ID'] = pbp[\"GAME_ID\"].astype(str)\n",
        "  res['SCORE'] = pbp['SCORE'].copy()\n",
        "\n",
        "  # Edit SCORE to eliminate empty scores\n",
        "  prev_score = '0 - 0'\n",
        "  for i in range(len(res)):\n",
        "    play = res.iloc[[i]]\n",
        "    if res.loc[i,'SCORE'] == None:\n",
        "      res.loc[i,'SCORE'] = prev_score\n",
        "    else:\n",
        "      prev_score = res.loc[i,'SCORE']\n",
        "    \n",
        "  # Split SCORE into AWAY_SCORE and HOME_SCORE\n",
        "  res[['AWAY_SCORE', 'HOME_SCORE']] = res['SCORE'].str.split('-', expand=True).astype(int)\n",
        "  res.drop('SCORE', axis=1, inplace=True)\n",
        "\n",
        "  # Set up SCORE_MARGIN to remove 'TIE' and None values\n",
        "  res['SCORE_MARGIN'] = pbp['SCOREMARGIN'].copy()\n",
        "  prev_margin = '0'\n",
        "  for i in range(len(res)):\n",
        "    play = res.iloc[[i]]\n",
        "    if res.loc[i,'SCORE_MARGIN'] == None:\n",
        "      res.loc[i,'SCORE_MARGIN'] = prev_margin\n",
        "    elif res.loc[i,'SCORE_MARGIN'] == 'TIE':\n",
        "      res.loc[i,'SCORE_MARGIN'] = '0'\n",
        "      prev_margin = '0'\n",
        "    else:\n",
        "      prev_margin = res.loc[i,'SCORE_MARGIN']\n",
        "  res['SCORE_MARGIN'] = res['SCORE_MARGIN'].astype(int)\n",
        "\n",
        "  # Set up HOME_WIN based on SCOREMARGIN\n",
        "  res['HOME_WIN'] = 1 if int(pbp.tail(1)['SCOREMARGIN'].values[0]) > 0 else 0\n",
        "  res['OT'] = 0\n",
        "\n",
        "  # lambda function that converts the PCTIMESTRING to seconds using datetime\n",
        "  time_to_seconds = lambda x: datetime.datetime.strptime(x, '%M:%S').minute * 60 + datetime.datetime.strptime(x, '%M:%S').second\n",
        "  res['TIME_REMAINING'] = ((4 - pbp['PERIOD']) *12*60) + pbp['PCTIMESTRING'].apply(time_to_seconds)\n",
        "\n",
        "  # Handling time remaining for overtime\n",
        "  res.loc[res['TIME_REMAINING'] < 0, 'OT'] = 1\n",
        "  res.loc[res['TIME_REMAINING'] < 0, 'TIME_REMAINING'] = pbp['PCTIMESTRING'].apply(time_to_seconds)\n",
        "\n",
        "  return res\n"
      ]
    },
    {
      "cell_type": "markdown",
      "source": [
        "# Create Data Set"
      ],
      "metadata": {
        "id": "LMqxsZqWdOW4"
      }
    },
    {
      "cell_type": "code",
      "execution_count": null,
      "metadata": {
        "id": "GTbxbmaWlZg6"
      },
      "outputs": [],
      "source": [
        "frames = []\n",
        "for i in range(len(all_games)):\n",
        "  data = get_data_from_pbp(all_games.iloc[[i]])\n",
        "  frames.append(data)\n",
        "  time.sleep(.8)\n",
        "\n",
        "all_game_data_set = pd.concat(frames).reset_index(drop=True)\n",
        "print(all_game_data_set)"
      ]
    },
    {
      "cell_type": "markdown",
      "source": [
        "# Import Existing Data Set"
      ],
      "metadata": {
        "id": "Bkj1o_zVdS6x"
      }
    },
    {
      "cell_type": "code",
      "source": [
        "all_game_data_set = pd.read_csv('data_set.csv')\n",
        "\n",
        "flipped_data_set = pd.read_csv('data_set.csv')\n",
        "flipped_data_set.loc[flipped_data_set['HOME_WIN'] == 0, 'HOME_WIN'] = 2\n",
        "flipped_data_set.loc[flipped_data_set['HOME_WIN'] == 1, 'HOME_WIN'] = 0\n",
        "flipped_data_set.loc[flipped_data_set['HOME_WIN'] == 2, 'HOME_WIN'] = 1\n",
        "flipped_data_set.rename(columns={'HOME_SCORE':'TEMP'}, inplace=True)\n",
        "flipped_data_set.rename(columns={'AWAY_SCORE':'HOME_SCORE'}, inplace=True)\n",
        "flipped_data_set.rename(columns={'TEMP':'AWAY_SCORE'}, inplace=True)\n",
        "flipped_data_set['SCORE_MARGIN'] = flipped_data_set['SCORE_MARGIN']*-1\n",
        "\n",
        "data_set = []\n",
        "data_set.append(all_game_data_set)\n",
        "data_set.append(flipped_data_set)\n",
        "data_set = pd.concat(data_set)\n",
        "print(data_set)"
      ],
      "metadata": {
        "id": "ElY3aOBMFIit",
        "colab": {
          "base_uri": "https://localhost:8080/"
        },
        "outputId": "a7dbf585-7bb1-4205-c909-7b1a4a67c165"
      },
      "execution_count": 30,
      "outputs": [
        {
          "output_type": "stream",
          "name": "stdout",
          "text": [
            "          GAME_ID  AWAY_SCORE  HOME_SCORE  SCORE_MARGIN  HOME_WIN  OT  \\\n",
            "0        20900001           0           0             0         0   0   \n",
            "1        20900001           0           0             0         0   0   \n",
            "2        20900001           0           2             2         0   0   \n",
            "3        20900001           0           2             2         0   0   \n",
            "4        20900001           0           2             2         0   0   \n",
            "...           ...         ...         ...           ...       ...  ..   \n",
            "7561669  42100406          90         103            13         1   0   \n",
            "7561670  42100406          90         103            13         1   0   \n",
            "7561671  42100406          90         103            13         1   0   \n",
            "7561672  42100406          90         103            13         1   0   \n",
            "7561673  42100406          90         103            13         1   0   \n",
            "\n",
            "         TIME_REMAINING  \n",
            "0                  2880  \n",
            "1                  2880  \n",
            "2                  2851  \n",
            "3                  2832  \n",
            "4                  2830  \n",
            "...                 ...  \n",
            "7561669              36  \n",
            "7561670              29  \n",
            "7561671              26  \n",
            "7561672               3  \n",
            "7561673               0  \n",
            "\n",
            "[15123348 rows x 7 columns]\n"
          ]
        }
      ]
    },
    {
      "cell_type": "code",
      "source": [
        "q1 = data_set.loc[(data_set['TIME_REMAINING'] >= 2160) & (data_set['TIME_REMAINING'] <= 2880)]\n",
        "q2 = data_set.loc[(data_set['TIME_REMAINING'] >= 1440) & (data_set['TIME_REMAINING'] <= 2160)]\n",
        "q3 = data_set.loc[(data_set['TIME_REMAINING'] >= 720) & (data_set['TIME_REMAINING'] <= 1440)]\n",
        "q4 = data_set.loc[(data_set['TIME_REMAINING'] >= 0) & (data_set['TIME_REMAINING'] <= 720) & (data_set['OT'] == 0)]\n",
        "ot = data_set.loc[data_set['OT'] == 1]"
      ],
      "metadata": {
        "id": "kBJFC3uF_73L"
      },
      "execution_count": 31,
      "outputs": []
    },
    {
      "cell_type": "markdown",
      "source": [
        "# Split training and testing data for each quarter"
      ],
      "metadata": {
        "id": "ZKZCFCWQdb1M"
      }
    },
    {
      "cell_type": "code",
      "source": [
        "q1_X_train, q1_X_test, q1_y_train, q1_y_test = train_test_split(q1[[\"TIME_REMAINING\", \"HOME_SCORE\", \"AWAY_SCORE\", \"SCORE_MARGIN\", \"OT\"]], q1['HOME_WIN'], test_size=0.20, random_state=16)\n",
        "q2_X_train, q2_X_test, q2_y_train, q2_y_test = train_test_split(q2[[\"TIME_REMAINING\", \"HOME_SCORE\", \"AWAY_SCORE\", \"SCORE_MARGIN\", \"OT\"]], q2['HOME_WIN'], test_size=0.20, random_state=16)\n",
        "q3_X_train, q3_X_test, q3_y_train, q3_y_test = train_test_split(q3[[\"TIME_REMAINING\", \"HOME_SCORE\", \"AWAY_SCORE\", \"SCORE_MARGIN\", \"OT\"]], q3['HOME_WIN'], test_size=0.20, random_state=16)\n",
        "q4_X_train, q4_X_test, q4_y_train, q4_y_test = train_test_split(q4[[\"TIME_REMAINING\", \"HOME_SCORE\", \"AWAY_SCORE\", \"SCORE_MARGIN\", \"OT\"]], q4['HOME_WIN'], test_size=0.20, random_state=16)\n",
        "ot_X_train, ot_X_test, ot_y_train, ot_y_test = train_test_split(ot[[\"TIME_REMAINING\", \"HOME_SCORE\", \"AWAY_SCORE\", \"SCORE_MARGIN\", \"OT\"]], ot['HOME_WIN'], test_size=0.20, random_state=16)"
      ],
      "metadata": {
        "id": "PNs09zW5N8rw"
      },
      "execution_count": 32,
      "outputs": []
    },
    {
      "cell_type": "markdown",
      "source": [
        "# Train model for each quarter"
      ],
      "metadata": {
        "id": "4tkSmt0SdfyI"
      }
    },
    {
      "cell_type": "code",
      "source": [
        "q1_model = LogisticRegression(solver='liblinear', random_state=0).fit(q1_X_train, q1_y_train)\n",
        "q2_model = LogisticRegression(solver='liblinear', random_state=0).fit(q2_X_train, q2_y_train)\n",
        "q3_model = LogisticRegression(solver='liblinear', random_state=0).fit(q3_X_train, q3_y_train)\n",
        "q4_model = LogisticRegression(solver='liblinear', random_state=0).fit(q4_X_train, q4_y_train)\n",
        "ot_model = LogisticRegression(solver='liblinear', random_state=0).fit(ot_X_train, ot_y_train)"
      ],
      "metadata": {
        "id": "sPHFpSgbJrH-"
      },
      "execution_count": 33,
      "outputs": []
    },
    {
      "cell_type": "markdown",
      "source": [
        "# Score model"
      ],
      "metadata": {
        "id": "a6vl7otndjTa"
      }
    },
    {
      "cell_type": "code",
      "source": [
        "print(q1_model.score(q1_X_test,q1_y_test))\n",
        "print(q2_model.score(q2_X_test,q2_y_test))\n",
        "print(q3_model.score(q3_X_test,q3_y_test))\n",
        "print(q4_model.score(q4_X_test,q4_y_test))\n",
        "print(ot_model.score(ot_X_test,ot_y_test))"
      ],
      "metadata": {
        "colab": {
          "base_uri": "https://localhost:8080/"
        },
        "id": "eyoqCSPROBZq",
        "outputId": "d402d15b-5fe7-4fe1-df9f-acfbb9fb62a0"
      },
      "execution_count": 34,
      "outputs": [
        {
          "output_type": "stream",
          "name": "stdout",
          "text": [
            "0.6018203788184623\n",
            "0.6900843940337021\n",
            "0.770516288322053\n",
            "0.8731127461137294\n",
            "0.7584987543196978\n"
          ]
        }
      ]
    },
    {
      "cell_type": "markdown",
      "source": [
        "# Get an example game"
      ],
      "metadata": {
        "id": "jEzA2-eFdrRx"
      }
    },
    {
      "cell_type": "code",
      "source": [
        "nba_teams = teams.get_teams()\n",
        "team = [team for team in nba_teams if team['abbreviation'] == 'LAL'][0]\n",
        "team_id = team['id']\n",
        "gamefinder = leaguegamefinder.LeagueGameFinder(team_id_nullable=team_id)\n",
        "\n",
        "games = gamefinder.get_data_frames()[0]\n",
        "games = games[games.SEASON_ID.str[-4:] == '2010']\n",
        "games = games[games.MATCHUP.str.contains('HOU')]\n",
        "g = games.sort_values('GAME_DATE').iloc[0]\n",
        "pbp = playbyplay.PlayByPlay(g[\"GAME_ID\"]).get_data_frames()[0]\n",
        "t = get_data_from_pbp(g)\n",
        "\n",
        "t.drop('HOME_WIN', axis=1, inplace=True)\n",
        "t.drop('GAME_ID', axis=1, inplace=True)\n",
        "\n",
        "q1_t = t.loc[(t['TIME_REMAINING'] >= 2160) & (t['TIME_REMAINING'] <= 2880)]\n",
        "q2_t = t.loc[(t['TIME_REMAINING'] >= 1440) & (t['TIME_REMAINING'] <= 2160)]\n",
        "q3_t = t.loc[(t['TIME_REMAINING'] >= 720) & (t['TIME_REMAINING'] <= 1440)]\n",
        "q4_t = t.loc[(t['TIME_REMAINING'] >= 0) & (t['TIME_REMAINING'] <= 720) & (t['OT'] == 0)]\n",
        "ot_t = t.loc[t['OT'] == 1]\n"
      ],
      "metadata": {
        "id": "6ujzFCg2Trcj"
      },
      "execution_count": 35,
      "outputs": []
    },
    {
      "cell_type": "markdown",
      "source": [
        "# Get regular predictions for example game"
      ],
      "metadata": {
        "id": "tOKDYZc6dnnL"
      }
    },
    {
      "cell_type": "code",
      "source": [
        "q1_p = q1_model.predict_proba(q1_t[[\"TIME_REMAINING\", \"HOME_SCORE\", \"AWAY_SCORE\", \"SCORE_MARGIN\", \"OT\"]])\n",
        "q2_p = q2_model.predict_proba(q2_t[[\"TIME_REMAINING\", \"HOME_SCORE\", \"AWAY_SCORE\", \"SCORE_MARGIN\", \"OT\"]])\n",
        "q3_p = q3_model.predict_proba(q3_t[[\"TIME_REMAINING\", \"HOME_SCORE\", \"AWAY_SCORE\", \"SCORE_MARGIN\", \"OT\"]])\n",
        "q4_p = q4_model.predict_proba(q4_t[[\"TIME_REMAINING\", \"HOME_SCORE\", \"AWAY_SCORE\", \"SCORE_MARGIN\", \"OT\"]])\n",
        "predictions = np.concatenate((q1_p, q2_p, q3_p, q4_p), axis=0)\n",
        "if len(ot_t) > 0:\n",
        "  ot_t = ot_t.values\n",
        "  ot_p = ot_model.predict_proba(ot_t[[\"TIME_REMAINING\", \"HOME_SCORE\", \"AWAY_SCORE\", \"SCORE_MARGIN\", \"OT\"]])\n",
        "  predictions = np.concatenate((predictions,ot_p), axis=0)\n",
        "\n",
        "plt.plot(predictions[:,1])\n",
        "plt.show()\n"
      ],
      "metadata": {
        "colab": {
          "base_uri": "https://localhost:8080/",
          "height": 430
        },
        "id": "UoSupN2mJzp_",
        "outputId": "eee6d4c9-7b96-4cfa-c0e1-83e4788040a9"
      },
      "execution_count": 36,
      "outputs": [
        {
          "output_type": "display_data",
          "data": {
            "text/plain": [
              "<Figure size 640x480 with 1 Axes>"
            ],
            "image/png": "[encoded data removed]"
          },
          "metadata": {}
        }
      ]
    },
    {
      "cell_type": "markdown",
      "source": [
        "# Get smoothed predictions via lowess for example game"
      ],
      "metadata": {
        "id": "umnPlrsTdwGw"
      }
    },
    {
      "cell_type": "code",
      "source": [
        "frac_value = 0.1\n",
        "smoothed_q1_p = lowess(q1_p[:,1], np.arange(len(q1_p[:,1])), frac=frac_value)\n",
        "smoothed_q2_p = lowess(q2_p[:,1], np.arange(len(q2_p[:,1])), frac=frac_value)\n",
        "smoothed_q3_p = lowess(q3_p[:,1], np.arange(len(q3_p[:,1])), frac=frac_value)\n",
        "smoothed_q4_p = lowess(q4_p[:,1], np.arange(len(q4_p[:,1])), frac=frac_value)\n",
        "\n",
        "smoothed_predictions = np.concatenate((smoothed_q1_p[:,1], smoothed_q2_p[:,1], smoothed_q3_p[:,1], smoothed_q4_p[:,1]), axis=0)\n",
        "if len(ot_t) > 0:\n",
        "  smoothed_ot_p = lowess(ot_p[:,1], np.arange(len(ot_p[:,1])), frac=frac_value)\n",
        "  smoothed_ot_p = smoothed_ot_p[:,1]\n",
        "  smoothed_predictions = np.concatenate((smoothed_predictions,smoothed_ot_p), axis=0)\n",
        "\n",
        "plt.plot(smoothed_predictions)\n",
        "plt.show()"
      ],
      "metadata": {
        "colab": {
          "base_uri": "https://localhost:8080/",
          "height": 430
        },
        "id": "T2fOiMoeQ6pA",
        "outputId": "a382fb8a-9616-46e2-a212-7c869860487f"
      },
      "execution_count": 37,
      "outputs": [
        {
          "output_type": "display_data",
          "data": {
            "text/plain": [
              "<Figure size 640x480 with 1 Axes>"
            ],
            "image/png": "[encoded data removed]"
          },
          "metadata": {}
        }
      ]
    },
    {
      "cell_type": "markdown",
      "source": [
        "# Generate classifcation report "
      ],
      "metadata": {
        "id": "pms1m4F1dycQ"
      }
    },
    {
      "cell_type": "code",
      "execution_count": null,
      "metadata": {
        "colab": {
          "base_uri": "https://localhost:8080/",
          "height": 1000
        },
        "id": "-OgWXDTdqOo5",
        "outputId": "5be7c3a0-0f06-45db-a39d-ca62434b2f22"
      },
      "outputs": [
        {
          "output_type": "stream",
          "name": "stdout",
          "text": [
            "The intercept b0=  [4.85562599e-05]\n",
            "The coefficient b1=  [[ 1.18947777e-04  5.38322843e-02 -5.22139412e-02  1.06046226e-01\n",
            "  -3.23930847e-05]]\n",
            "Prediction Rates=  [[0.73152394 0.26847606]\n",
            " [0.38422375 0.61577625]\n",
            " [0.37709547 0.62290453]\n",
            " ...\n",
            " [0.15227342 0.84772658]\n",
            " [0.84926058 0.15073942]\n",
            " [0.4093873  0.5906127 ]]\n",
            "The score=  0.7435860813999006\n"
          ]
        },
        {
          "output_type": "display_data",
          "data": {
            "text/plain": [
              "<Figure size 800x800 with 1 Axes>"
            ],
            "image/png": "[encoded data removed]"
          },
          "metadata": {}
        },
        {
          "output_type": "stream",
          "name": "stdout",
          "text": [
            "              precision    recall  f1-score   support\n",
            "\n",
            "           0       0.72      0.63      0.67    316059\n",
            "           1       0.76      0.82      0.79    440109\n",
            "\n",
            "    accuracy                           0.74    756168\n",
            "   macro avg       0.74      0.73      0.73    756168\n",
            "weighted avg       0.74      0.74      0.74    756168\n",
            "\n"
          ]
        }
      ],
      "source": [
        "cm = confusion_matrix(y_test, model.predict(X_test))\n",
        "fig, ax = plt.subplots(figsize=(8, 8))\n",
        "ax.imshow(cm)\n",
        "ax.grid(False)\n",
        "ax.xaxis.set(ticks=(0, 1), ticklabels=('Predicted 0s', 'Predicted 1s'))\n",
        "ax.yaxis.set(ticks=(0, 1), ticklabels=('Actual 0s', 'Actual 1s'))\n",
        "ax.set_ylim(1.5, -0.5)\n",
        "for i in range(2):\n",
        "    for j in range(2):\n",
        "        ax.text(j, i, cm[i, j], ha='center', va='center', color='red')\n",
        "plt.show()\n",
        "\n",
        "print(classification_report(y_test, model.predict(X_test)))\n"
      ]
    },
    {
      "cell_type": "markdown",
      "source": [
        "# Export models"
      ],
      "metadata": {
        "id": "yKi3Eb79d-jC"
      }
    },
    {
      "cell_type": "code",
      "source": [
        "filename = 'q1_model.sav'\n",
        "pickle.dump(q1_model, open(filename, 'wb'))\n",
        "files.download('q1_model.sav')\n",
        "filename2 = 'q2_model.sav'\n",
        "pickle.dump(q2_model, open(filename2, 'wb'))\n",
        "files.download('q2_model.sav')\n",
        "filename3 = 'q3_model.sav'\n",
        "pickle.dump(q3_model, open(filename3, 'wb'))\n",
        "files.download('q3_model.sav')\n",
        "filename4 = 'q4_model.sav'\n",
        "pickle.dump(q4_model, open(filename4, 'wb'))\n",
        "files.download('q4_model.sav')\n",
        "filename5 = 'ot_model.sav'\n",
        "pickle.dump(ot_model, open(filename5, 'wb'))\n",
        "files.download('ot_model.sav')"
      ],
      "metadata": {
        "colab": {
          "base_uri": "https://localhost:8080/",
          "height": 17
        },
        "id": "vGsrFGOah28j",
        "outputId": "ee335a3b-f18d-4015-fac8-e038257a86e4"
      },
      "execution_count": 38,
      "outputs": [
        {
          "output_type": "display_data",
          "data": {
            "text/plain": [
              "<IPython.core.display.Javascript object>"
            ],
            "application/javascript": [
              "\n",
              "    async function download(id, filename, size) {\n",
              "      if (!google.colab.kernel.accessAllowed) {\n",
              "        return;\n",
              "      }\n",
              "      const div = document.createElement('div');\n",
              "      const label = document.createElement('label');\n",
              "      label.textContent = `Downloading \"${filename}\": `;\n",
              "      div.appendChild(label);\n",
              "      const progress = document.createElement('progress');\n",
              "      progress.max = size;\n",
              "      div.appendChild(progress);\n",
              "      document.body.appendChild(div);\n",
              "\n",
              "      const buffers = [];\n",
              "      let downloaded = 0;\n",
              "\n",
              "      const channel = await google.colab.kernel.comms.open(id);\n",
              "      // Send a message to notify the kernel that we're ready.\n",
              "      channel.send({})\n",
              "\n",
              "      for await (const message of channel.messages) {\n",
              "        // Send a message to notify the kernel that we're ready.\n",
              "        channel.send({})\n",
              "        if (message.buffers) {\n",
              "          for (const buffer of message.buffers) {\n",
              "            buffers.push(buffer);\n",
              "            downloaded += buffer.byteLength;\n",
              "            progress.value = downloaded;\n",
              "          }\n",
              "        }\n",
              "      }\n",
              "      const blob = new Blob(buffers, {type: 'application/binary'});\n",
              "      const a = document.createElement('a');\n",
              "      a.href = window.URL.createObjectURL(blob);\n",
              "      a.download = filename;\n",
              "      div.appendChild(a);\n",
              "      a.click();\n",
              "      div.remove();\n",
              "    }\n",
              "  "
            ]
          },
          "metadata": {}
        },
        {
          "output_type": "display_data",
          "data": {
            "text/plain": [
              "<IPython.core.display.Javascript object>"
            ],
            "application/javascript": [
              "download(\"download_5961e33d-48d2-469f-beb4-56dc23f898b8\", \"q1_model.sav\", 903)"
            ]
          },
          "metadata": {}
        },
        {
          "output_type": "display_data",
          "data": {
            "text/plain": [
              "<IPython.core.display.Javascript object>"
            ],
            "application/javascript": [
              "\n",
              "    async function download(id, filename, size) {\n",
              "      if (!google.colab.kernel.accessAllowed) {\n",
              "        return;\n",
              "      }\n",
              "      const div = document.createElement('div');\n",
              "      const label = document.createElement('label');\n",
              "      label.textContent = `Downloading \"${filename}\": `;\n",
              "      div.appendChild(label);\n",
              "      const progress = document.createElement('progress');\n",
              "      progress.max = size;\n",
              "      div.appendChild(progress);\n",
              "      document.body.appendChild(div);\n",
              "\n",
              "      const buffers = [];\n",
              "      let downloaded = 0;\n",
              "\n",
              "      const channel = await google.colab.kernel.comms.open(id);\n",
              "      // Send a message to notify the kernel that we're ready.\n",
              "      channel.send({})\n",
              "\n",
              "      for await (const message of channel.messages) {\n",
              "        // Send a message to notify the kernel that we're ready.\n",
              "        channel.send({})\n",
              "        if (message.buffers) {\n",
              "          for (const buffer of message.buffers) {\n",
              "            buffers.push(buffer);\n",
              "            downloaded += buffer.byteLength;\n",
              "            progress.value = downloaded;\n",
              "          }\n",
              "        }\n",
              "      }\n",
              "      const blob = new Blob(buffers, {type: 'application/binary'});\n",
              "      const a = document.createElement('a');\n",
              "      a.href = window.URL.createObjectURL(blob);\n",
              "      a.download = filename;\n",
              "      div.appendChild(a);\n",
              "      a.click();\n",
              "      div.remove();\n",
              "    }\n",
              "  "
            ]
          },
          "metadata": {}
        },
        {
          "output_type": "display_data",
          "data": {
            "text/plain": [
              "<IPython.core.display.Javascript object>"
            ],
            "application/javascript": [
              "download(\"download_889bd9d1-989a-41cc-8bd1-ff02a1b61ff9\", \"q2_model.sav\", 903)"
            ]
          },
          "metadata": {}
        },
        {
          "output_type": "display_data",
          "data": {
            "text/plain": [
              "<IPython.core.display.Javascript object>"
            ],
            "application/javascript": [
              "\n",
              "    async function download(id, filename, size) {\n",
              "      if (!google.colab.kernel.accessAllowed) {\n",
              "        return;\n",
              "      }\n",
              "      const div = document.createElement('div');\n",
              "      const label = document.createElement('label');\n",
              "      label.textContent = `Downloading \"${filename}\": `;\n",
              "      div.appendChild(label);\n",
              "      const progress = document.createElement('progress');\n",
              "      progress.max = size;\n",
              "      div.appendChild(progress);\n",
              "      document.body.appendChild(div);\n",
              "\n",
              "      const buffers = [];\n",
              "      let downloaded = 0;\n",
              "\n",
              "      const channel = await google.colab.kernel.comms.open(id);\n",
              "      // Send a message to notify the kernel that we're ready.\n",
              "      channel.send({})\n",
              "\n",
              "      for await (const message of channel.messages) {\n",
              "        // Send a message to notify the kernel that we're ready.\n",
              "        channel.send({})\n",
              "        if (message.buffers) {\n",
              "          for (const buffer of message.buffers) {\n",
              "            buffers.push(buffer);\n",
              "            downloaded += buffer.byteLength;\n",
              "            progress.value = downloaded;\n",
              "          }\n",
              "        }\n",
              "      }\n",
              "      const blob = new Blob(buffers, {type: 'application/binary'});\n",
              "      const a = document.createElement('a');\n",
              "      a.href = window.URL.createObjectURL(blob);\n",
              "      a.download = filename;\n",
              "      div.appendChild(a);\n",
              "      a.click();\n",
              "      div.remove();\n",
              "    }\n",
              "  "
            ]
          },
          "metadata": {}
        },
        {
          "output_type": "display_data",
          "data": {
            "text/plain": [
              "<IPython.core.display.Javascript object>"
            ],
            "application/javascript": [
              "download(\"download_89e19bb8-ef07-406f-8154-0ad8f831dc98\", \"q3_model.sav\", 903)"
            ]
          },
          "metadata": {}
        },
        {
          "output_type": "display_data",
          "data": {
            "text/plain": [
              "<IPython.core.display.Javascript object>"
            ],
            "application/javascript": [
              "\n",
              "    async function download(id, filename, size) {\n",
              "      if (!google.colab.kernel.accessAllowed) {\n",
              "        return;\n",
              "      }\n",
              "      const div = document.createElement('div');\n",
              "      const label = document.createElement('label');\n",
              "      label.textContent = `Downloading \"${filename}\": `;\n",
              "      div.appendChild(label);\n",
              "      const progress = document.createElement('progress');\n",
              "      progress.max = size;\n",
              "      div.appendChild(progress);\n",
              "      document.body.appendChild(div);\n",
              "\n",
              "      const buffers = [];\n",
              "      let downloaded = 0;\n",
              "\n",
              "      const channel = await google.colab.kernel.comms.open(id);\n",
              "      // Send a message to notify the kernel that we're ready.\n",
              "      channel.send({})\n",
              "\n",
              "      for await (const message of channel.messages) {\n",
              "        // Send a message to notify the kernel that we're ready.\n",
              "        channel.send({})\n",
              "        if (message.buffers) {\n",
              "          for (const buffer of message.buffers) {\n",
              "            buffers.push(buffer);\n",
              "            downloaded += buffer.byteLength;\n",
              "            progress.value = downloaded;\n",
              "          }\n",
              "        }\n",
              "      }\n",
              "      const blob = new Blob(buffers, {type: 'application/binary'});\n",
              "      const a = document.createElement('a');\n",
              "      a.href = window.URL.createObjectURL(blob);\n",
              "      a.download = filename;\n",
              "      div.appendChild(a);\n",
              "      a.click();\n",
              "      div.remove();\n",
              "    }\n",
              "  "
            ]
          },
          "metadata": {}
        },
        {
          "output_type": "display_data",
          "data": {
            "text/plain": [
              "<IPython.core.display.Javascript object>"
            ],
            "application/javascript": [
              "download(\"download_4d4cea8f-b1f1-423e-bc1b-e4c537c12453\", \"q4_model.sav\", 903)"
            ]
          },
          "metadata": {}
        },
        {
          "output_type": "display_data",
          "data": {
            "text/plain": [
              "<IPython.core.display.Javascript object>"
            ],
            "application/javascript": [
              "\n",
              "    async function download(id, filename, size) {\n",
              "      if (!google.colab.kernel.accessAllowed) {\n",
              "        return;\n",
              "      }\n",
              "      const div = document.createElement('div');\n",
              "      const label = document.createElement('label');\n",
              "      label.textContent = `Downloading \"${filename}\": `;\n",
              "      div.appendChild(label);\n",
              "      const progress = document.createElement('progress');\n",
              "      progress.max = size;\n",
              "      div.appendChild(progress);\n",
              "      document.body.appendChild(div);\n",
              "\n",
              "      const buffers = [];\n",
              "      let downloaded = 0;\n",
              "\n",
              "      const channel = await google.colab.kernel.comms.open(id);\n",
              "      // Send a message to notify the kernel that we're ready.\n",
              "      channel.send({})\n",
              "\n",
              "      for await (const message of channel.messages) {\n",
              "        // Send a message to notify the kernel that we're ready.\n",
              "        channel.send({})\n",
              "        if (message.buffers) {\n",
              "          for (const buffer of message.buffers) {\n",
              "            buffers.push(buffer);\n",
              "            downloaded += buffer.byteLength;\n",
              "            progress.value = downloaded;\n",
              "          }\n",
              "        }\n",
              "      }\n",
              "      const blob = new Blob(buffers, {type: 'application/binary'});\n",
              "      const a = document.createElement('a');\n",
              "      a.href = window.URL.createObjectURL(blob);\n",
              "      a.download = filename;\n",
              "      div.appendChild(a);\n",
              "      a.click();\n",
              "      div.remove();\n",
              "    }\n",
              "  "
            ]
          },
          "metadata": {}
        },
        {
          "output_type": "display_data",
          "data": {
            "text/plain": [
              "<IPython.core.display.Javascript object>"
            ],
            "application/javascript": [
              "download(\"download_63fa657c-4856-40d7-a3a8-f610e8a11981\", \"ot_model.sav\", 903)"
            ]
          },
          "metadata": {}
        }
      ]
    }
  ],
  "metadata": {
    "colab": {
      "provenance": []
    },
    "gpuClass": "standard",
    "kernelspec": {
      "display_name": "Python 3",
      "name": "python3"
    },
    "language_info": {
      "name": "python"
    }
  },
  "nbformat": 4,
  "nbformat_minor": 0
}